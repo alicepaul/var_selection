{
 "cells": [
  {
   "cell_type": "markdown",
   "metadata": {},
   "source": [
    "# Exploration and Evaluation"
   ]
  },
  {
   "cell_type": "markdown",
   "metadata": {},
   "source": [
    "## Tuning Optimal M Value for Branch and Bound"
   ]
  },
  {
   "cell_type": "code",
   "execution_count": 64,
   "metadata": {},
   "outputs": [
    {
     "name": "stdout",
     "output_type": "stream",
     "text": [
      "Optimal M: 1.342228603310831\n"
     ]
    }
   ],
   "source": [
    "import numpy as np\n",
    "import pandas as pd\n",
    "from sklearn.linear_model import LinearRegression\n",
    "\n",
    "# Load in Data\n",
    "x_file = 'synthetic_data/batch_1/x_gen_syn_n3_p10_corr0.5_snr5_seed2022_0.csv'\n",
    "y_file = 'synthetic_data/batch_1/y_gen_syn_n3_p10_corr0.5_snr5_seed2022_0.csv'\n",
    "x = np.loadtxt(x_file, delimiter=\",\")\n",
    "y = np.loadtxt(y_file, delimiter=\",\")\n",
    "l0 = 0.01\n",
    "l2 = 0\n",
    "\n",
    "from sklearn.linear_model import LinearRegression\n",
    "\n",
    "# Fit a linear regression model to estimate coefficients (betas)\n",
    "linear_model = LinearRegression()\n",
    "linear_model.fit(x, y)\n",
    "\n",
    "# Calculate the maximum absolute coefficient value\n",
    "max_abs_beta = np.max(np.abs(linear_model.coef_))\n",
    "\n",
    "# Calculate the optimal M value as 1.5 times the maximum absolute coefficient value\n",
    "optimal_M = 1.5 * max_abs_beta\n",
    "\n",
    "print(f\"Optimal M: {optimal_M}\")"
   ]
  },
  {
   "cell_type": "markdown",
   "metadata": {},
   "source": [
    "## Algorithms"
   ]
  },
  {
   "cell_type": "code",
   "execution_count": 84,
   "metadata": {},
   "outputs": [],
   "source": [
    "import networkx as nx\n",
    "import matplotlib.pyplot as plt\n",
    "\n",
    "### Rough Visualization of Tree Structure\n",
    "\n",
    "def hierarchy_pos(G, root=None, width=1., vert_gap = 0.1, vert_loc = 0, xcenter = 0.5):\n",
    "    pos = _hierarchy_pos(G, root, width, vert_gap, vert_loc, xcenter)\n",
    "    return pos\n",
    "\n",
    "def _hierarchy_pos(G, root, width=2., vert_gap = 0.1, vert_loc = 0, xcenter = 0.5, pos = None, parent = None, parsed = []):\n",
    "    if pos is None:\n",
    "        pos = {root: (xcenter, vert_loc)}\n",
    "    else:\n",
    "        pos[root] = (xcenter, vert_loc)\n",
    "    \n",
    "    children = list(G.neighbors(root))\n",
    "    if not isinstance(G, nx.DiGraph) and parent is not None:\n",
    "        children.remove(parent)  \n",
    "            \n",
    "    if len(children) != 0:\n",
    "        dx = width / len(children) \n",
    "        nextx = xcenter - width/2 - dx/2\n",
    "        for child in children:\n",
    "            nextx += dx\n",
    "            pos = _hierarchy_pos(G, child, width = dx, vert_gap = vert_gap, vert_loc = vert_loc-vert_gap, xcenter=nextx, pos=pos, parent=root, parsed=parsed)\n",
    "    \n",
    "    return pos\n",
    "\n",
    "def visualize_tree(root):\n",
    "    if not root:\n",
    "        return\n",
    "\n",
    "    tree_graph = nx.DiGraph()\n",
    "\n",
    "    def add_nodes_edges(node):\n",
    "        if node.left:\n",
    "            tree_graph.add_edge(node.node_key, node.left.node_key)\n",
    "            add_nodes_edges(node.left)\n",
    "        if node.right:\n",
    "            tree_graph.add_edge(node.node_key, node.right.node_key)\n",
    "            add_nodes_edges(node.right)\n",
    "\n",
    "    add_nodes_edges(root)\n",
    "\n",
    "    pos = hierarchy_pos(tree_graph, root.node_key)\n",
    "    nx.draw(tree_graph, pos=pos, with_labels=True, node_size=100, node_color=\"skyblue\", font_size=6, font_weight='bold')\n",
    "    plt.title(\"Binary Tree Visualization\")\n",
    "    plt.show()"
   ]
  },
  {
   "cell_type": "code",
   "execution_count": 85,
   "metadata": {},
   "outputs": [
    {
     "name": "stdout",
     "output_type": "stream",
     "text": [
      "Number of iterations: 119\n",
      "Reward: -118\n",
      "Number of Non-Zero: 1\n",
      "Optimality Gap: 9.015282352489873e-06\n"
     ]
    }
   ],
   "source": [
    "## Branch and Bound ##\n",
    "import Tree\n",
    "\n",
    "p = Tree.Problem(x,y,l0,l2, m = 1.34)\n",
    "t = Tree.tree(p)\n",
    "t.branch_and_bound()\n",
    "i, r, nnz, opt_gap = t.branch_and_bound()\n",
    "\n",
    "print(f'Number of iterations: {i}')\n",
    "print(f'Reward: {r}')\n",
    "print(f'Number of Non-Zero: {nnz}')\n",
    "print(f'Optimality Gap: {opt_gap}')"
   ]
  },
  {
   "cell_type": "code",
   "execution_count": 86,
   "metadata": {},
   "outputs": [
    {
     "name": "stdout",
     "output_type": "stream",
     "text": [
      "Iterations This Episode: 121\n",
      "Total Reward this Episode: -120\n",
      "Number of Non-Zero: 1\n",
      "Optimality Gap: 0.0\n",
      "Number of Items in Memory: 242\n",
      "-----------------------------------------\n",
      "Episodes Played: 1\n",
      "Epsilon: 0.9774\n"
     ]
    }
   ],
   "source": [
    "## Reinforcement Learning ##\n",
    "\n",
    "#initialize agent\n",
    "from Model import Agent\n",
    "agent = Agent()\n",
    "\n",
    "# Solve Using RL Agent\n",
    "iters, tot_reward, nnz, opt_gap = agent.RL_solve(x,y,l0,l2, m = 1.34)\n",
    "\n",
    "print(f'Iterations This Episode: {iters}')\n",
    "print(f'Total Reward this Episode: {tot_reward}')\n",
    "print(f'Number of Non-Zero: {nnz}')\n",
    "print(f'Optimality Gap: {opt_gap}')\n",
    "print(f'Number of Items in Memory: {len(agent.memory.memory)}')\n",
    "print(\"-----------------------------------------\")\n",
    "print(f'Episodes Played: {agent.episodes_played}')\n",
    "print(f'Epsilon: {round(agent.epsilon,4)}')"
   ]
  },
  {
   "cell_type": "markdown",
   "metadata": {},
   "source": [
    "## Testing Algorithms on Synthetic Data"
   ]
  },
  {
   "cell_type": "code",
   "execution_count": 22,
   "metadata": {},
   "outputs": [
    {
     "name": "stdout",
     "output_type": "stream",
     "text": [
      "0\n"
     ]
    },
    {
     "data": {
      "text/html": [
       "<div>\n",
       "<style scoped>\n",
       "    .dataframe tbody tr th:only-of-type {\n",
       "        vertical-align: middle;\n",
       "    }\n",
       "\n",
       "    .dataframe tbody tr th {\n",
       "        vertical-align: top;\n",
       "    }\n",
       "\n",
       "    .dataframe thead th {\n",
       "        text-align: right;\n",
       "    }\n",
       "</style>\n",
       "<table border=\"1\" class=\"dataframe\">\n",
       "  <thead>\n",
       "    <tr style=\"text-align: right;\">\n",
       "      <th></th>\n",
       "      <th>data</th>\n",
       "      <th>num_file</th>\n",
       "      <th>L0</th>\n",
       "      <th>L2</th>\n",
       "      <th>Epsilon</th>\n",
       "      <th>RL_iters</th>\n",
       "      <th>RL_rewards</th>\n",
       "      <th>RL_nnz</th>\n",
       "      <th>RL_OG</th>\n",
       "      <th>MF_iters</th>\n",
       "      <th>MF_rewards</th>\n",
       "      <th>MF_nnz</th>\n",
       "      <th>MF_OG</th>\n",
       "    </tr>\n",
       "  </thead>\n",
       "  <tbody>\n",
       "    <tr>\n",
       "      <th>0</th>\n",
       "      <td>x_gen_syn_n3_p10_corr0.5_snr5_seed2022_0.csv</td>\n",
       "      <td>0</td>\n",
       "      <td>0.01</td>\n",
       "      <td>0.0</td>\n",
       "      <td>0.977408</td>\n",
       "      <td>73</td>\n",
       "      <td>-72</td>\n",
       "      <td>1</td>\n",
       "      <td>0.0</td>\n",
       "      <td>72</td>\n",
       "      <td>-71</td>\n",
       "      <td>1</td>\n",
       "      <td>0.0</td>\n",
       "    </tr>\n",
       "  </tbody>\n",
       "</table>\n",
       "</div>"
      ],
      "text/plain": [
       "                                           data num_file    L0   L2   Epsilon  \\\n",
       "0  x_gen_syn_n3_p10_corr0.5_snr5_seed2022_0.csv        0  0.01  0.0  0.977408   \n",
       "\n",
       "  RL_iters RL_rewards RL_nnz RL_OG MF_iters MF_rewards MF_nnz MF_OG  \n",
       "0       73        -72      1   0.0       72        -71      1   0.0  "
      ]
     },
     "execution_count": 22,
     "metadata": {},
     "output_type": "execute_result"
    }
   ],
   "source": [
    "import Model\n",
    "import os\n",
    "import numpy as np\n",
    "import pandas as pd\n",
    "from random import shuffle\n",
    "import Tree\n",
    "import torch\n",
    "import random\n",
    "\n",
    "torch.manual_seed(0)\n",
    "np.random.seed(0)\n",
    "random.seed(0)\n",
    "\n",
    "DATA_BATCH = 1\n",
    "\n",
    "# Directory of problems\n",
    "my_path = \"synthetic_data/batch_\"+str(DATA_BATCH)\n",
    "files = [f for f in os.listdir(my_path) if os.path.isfile(os.path.join(my_path,f)) and f[0]==\"x\"]\n",
    "shuffle(files)\n",
    "num_files = 0\n",
    "\n",
    "# Results\n",
    "column_names = [\"data\", \"num_file\", \"L0\", \"L2\", \"Epsilon\", \n",
    "                \"RL_iters\", \"RL_rewards\", \"RL_nnz\", \"RL_OG\",\n",
    "                \"MF_iters\", \"MF_rewards\", \"MF_nnz\", \"MF_OG\"]\n",
    "res = pd.DataFrame(columns = column_names)\n",
    "\n",
    "# Agent RL\n",
    "agent = Model.Agent()\n",
    "\n",
    "for f in files:\n",
    "    print(num_files, flush=True)\n",
    "    x_file = os.path.join(my_path, f)\n",
    "    y_file = os.path.join(my_path, \"y\"+f[1:len(f)])\n",
    "    x = np.loadtxt(x_file, delimiter = \",\")\n",
    "    y = np.loadtxt(y_file, delimiter=\",\")\n",
    "    l0_max = max(abs(np.dot(x.T, y)))/2.0\n",
    "    l0 = 0.01\n",
    "    l2 = 0.0\n",
    "\n",
    "    m = 1.3\n",
    "\n",
    "    # Solve with agent and branch and bound directly\n",
    "    RL_iters, RL_rewards, RL_nnz, RL_og = agent.RL_solve(x,y,l0,l2, m)\n",
    "\n",
    "    p = Tree.Problem(x,y,l0,l2, m)\n",
    "    tree = Tree.tree(p)\n",
    "    MF_iters, MF_rewards, MF_nnz, MF_og = tree.branch_and_bound(\"max\")\n",
    "\n",
    "    # Add results to file\n",
    "    data = [[f, num_files, l0, l2, agent.epsilon,\n",
    "            RL_iters, RL_rewards, RL_nnz, RL_og,\n",
    "            MF_iters, MF_rewards, MF_nnz, MF_og]]\n",
    "    new_row = pd.DataFrame(data=data, columns=column_names)\n",
    "    res = pd.concat([res, new_row], ignore_index=True)\n",
    "    num_files += 1\n",
    "\n",
    "res"
   ]
  },
  {
   "cell_type": "markdown",
   "metadata": {},
   "source": [
    "## Evaluating Results"
   ]
  },
  {
   "cell_type": "code",
   "execution_count": 92,
   "metadata": {},
   "outputs": [
    {
     "data": {
      "image/png": "[encoded data removed]",
      "text/plain": [
       "<Figure size 720x432 with 1 Axes>"
      ]
     },
     "metadata": {
      "needs_background": "light"
     },
     "output_type": "display_data"
    }
   ],
   "source": [
    "import pandas as pd\n",
    "import matplotlib.pyplot as plt\n",
    "\n",
    "# Read the Results CSV file\n",
    "file_path = 'synthetic_data/results/results10.csv' \n",
    "df = pd.read_csv(file_path)\n",
    "\n",
    "# Rolling averages\n",
    "rolling_window_size = 50  # Adjust\n",
    "df['RL_rewards_rolling'] = df['RL_rewards'].rolling(window=rolling_window_size).mean()\n",
    "df['MF_rewards_rolling'] = df['MF_rewards'].rolling(window=rolling_window_size).mean()\n",
    "#df['R_rewards_rolling'] = df['R_rewards'].rolling(window=rolling_window_size).mean()\n",
    "\n",
    "# Step 3: Plot the data\n",
    "plt.figure(figsize=(10, 6))\n",
    "plt.plot(df['RL_rewards_rolling'], label='RL Rewards (Rolling Avg)')\n",
    "plt.plot(df['MF_rewards_rolling'], label='MF Rewards (Rolling Avg)')\n",
    "#plt.plot(df['R_rewards_rolling'], label='Random Rewards (Rolling Avg)')\n",
    "plt.xlabel('Episode')\n",
    "plt.ylabel('Rewards (Rolling Average)')\n",
    "plt.title('Comparison of RL and MF Rewards with Rolling Average')\n",
    "plt.legend()\n",
    "plt.grid(True)\n",
    "plt.show()"
   ]
  },
  {
   "cell_type": "code",
   "execution_count": 72,
   "metadata": {},
   "outputs": [],
   "source": [
    "import Model\n",
    "import torch\n",
    "\n",
    "# Load in Data\n",
    "x_file = 'synthetic_data/batch_3/x_gen_syn_n3_p50_corr0.5_snr5_seed2022_0.csv'\n",
    "y_file = 'synthetic_data/batch_3/y_gen_syn_n3_p50_corr0.5_snr5_seed2022_0.csv'\n",
    "x = np.loadtxt(x_file, delimiter=\",\")\n",
    "y = np.loadtxt(y_file, delimiter=\",\")\n",
    "l0 = 0.01\n",
    "l2 = 0\n",
    "\n",
    "m = 0.49\n",
    "l0 = (max(abs(np.dot(x.T, y)))/2.0)*0.3\n",
    "\n",
    "agent = Model.Agent()\n",
    "\n",
    "agent.policy_net.load_state_dict(torch.load(f\"synthetic_data/models/model_pn_1.pt\"))\n",
    "agent.epsilon = 0\n",
    "\n",
    "p = Tree.Problem(x,y,l0,l2, m)\n",
    "tree = Tree.tree(p)"
   ]
  },
  {
   "cell_type": "code",
   "execution_count": 66,
   "metadata": {},
   "outputs": [
    {
     "name": "stdout",
     "output_type": "stream",
     "text": [
      "No Support found for Node during Retrobranching\n"
     ]
    },
    {
     "data": {
      "text/plain": [
       "(268, -267, 4, -0.03235969316442146)"
      ]
     },
     "execution_count": 66,
     "metadata": {},
     "output_type": "execute_result"
    }
   ],
   "source": [
    "agent.RL_solve(x,y,l0,l2,m,training=False)"
   ]
  },
  {
   "cell_type": "code",
   "execution_count": 67,
   "metadata": {},
   "outputs": [
    {
     "data": {
      "text/plain": [
       "(225, -224, 4, 0.0)"
      ]
     },
     "execution_count": 67,
     "metadata": {},
     "output_type": "execute_result"
    }
   ],
   "source": [
    "tree.branch_and_bound(\"max\")"
   ]
  }
 ],
 "metadata": {
  "kernelspec": {
   "display_name": "Python 3",
   "language": "python",
   "name": "python3"
  },
  "language_info": {
   "codemirror_mode": {
    "name": "ipython",
    "version": 3
   },
   "file_extension": ".py",
   "mimetype": "text/x-python",
   "name": "python",
   "nbconvert_exporter": "python",
   "pygments_lexer": "ipython3",
   "version": "3.10.7"
  },
  "orig_nbformat": 4
 },
 "nbformat": 4,
 "nbformat_minor": 2
}
