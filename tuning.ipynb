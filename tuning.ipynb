{
 "cells": [
  {
   "cell_type": "markdown",
   "metadata": {},
   "source": [
    "# Tuning Model"
   ]
  },
  {
   "cell_type": "code",
   "execution_count": 1,
   "metadata": {},
   "outputs": [
    {
     "name": "stdout",
     "output_type": "stream",
     "text": [
      "Optimal M: 1.3422286033108297\n"
     ]
    }
   ],
   "source": [
    "import numpy as np\n",
    "import pandas as pd\n",
    "from sklearn.linear_model import LinearRegression\n",
    "\n",
    "# Load in Data\n",
    "x_file = 'synthetic_data/batch_1/x_gen_syn_n3_p10_corr0.5_snr5_seed2022_0.csv'\n",
    "y_file = 'synthetic_data/batch_1/y_gen_syn_n3_p10_corr0.5_snr5_seed2022_0.csv'\n",
    "x = np.loadtxt(x_file, delimiter=\",\")\n",
    "y = np.loadtxt(y_file, delimiter=\",\")\n",
    "l0 = 0.01\n",
    "l2 = 0\n",
    "\n",
    "from sklearn.linear_model import LinearRegression\n",
    "\n",
    "# Fit a linear regression model to estimate coefficients (betas)\n",
    "linear_model = LinearRegression()\n",
    "linear_model.fit(x, y)\n",
    "\n",
    "# Calculate the maximum absolute coefficient value\n",
    "max_abs_beta = np.max(np.abs(linear_model.coef_))\n",
    "\n",
    "# Calculate the optimal M value as 1.5 times the maximum absolute coefficient value\n",
    "optimal_M = 1.5 * max_abs_beta\n",
    "\n",
    "print(f\"Optimal M: {optimal_M}\")"
   ]
  },
  {
   "cell_type": "markdown",
   "metadata": {},
   "source": [
    "# Retro Branching"
   ]
  },
  {
   "cell_type": "code",
   "execution_count": 2,
   "metadata": {},
   "outputs": [],
   "source": [
    "import networkx as nx\n",
    "import matplotlib.pyplot as plt\n",
    "\n",
    "### Rough Visualization of Tree Structure\n",
    "\n",
    "def hierarchy_pos(G, root=None, width=1., vert_gap = 0.1, vert_loc = 0, xcenter = 0.5):\n",
    "    pos = _hierarchy_pos(G, root, width, vert_gap, vert_loc, xcenter)\n",
    "    return pos\n",
    "\n",
    "def _hierarchy_pos(G, root, width=2., vert_gap = 0.1, vert_loc = 0, xcenter = 0.5, pos = None, parent = None, parsed = []):\n",
    "    if pos is None:\n",
    "        pos = {root: (xcenter, vert_loc)}\n",
    "    else:\n",
    "        pos[root] = (xcenter, vert_loc)\n",
    "    \n",
    "    children = list(G.neighbors(root))\n",
    "    if not isinstance(G, nx.DiGraph) and parent is not None:\n",
    "        children.remove(parent)  \n",
    "            \n",
    "    if len(children) != 0:\n",
    "        dx = width / len(children) \n",
    "        nextx = xcenter - width/2 - dx/2\n",
    "        for child in children:\n",
    "            nextx += dx\n",
    "            pos = _hierarchy_pos(G, child, width = dx, vert_gap = vert_gap, vert_loc = vert_loc-vert_gap, xcenter=nextx, pos=pos, parent=root, parsed=parsed)\n",
    "    \n",
    "    return pos\n",
    "\n",
    "def visualize_tree(root):\n",
    "    if not root:\n",
    "        return\n",
    "\n",
    "    tree_graph = nx.DiGraph()\n",
    "\n",
    "    def add_nodes_edges(node):\n",
    "        if node.left:\n",
    "            tree_graph.add_edge(node.node_key, node.left.node_key)\n",
    "            add_nodes_edges(node.left)\n",
    "        if node.right:\n",
    "            tree_graph.add_edge(node.node_key, node.right.node_key)\n",
    "            add_nodes_edges(node.right)\n",
    "\n",
    "    add_nodes_edges(root)\n",
    "\n",
    "    pos = hierarchy_pos(tree_graph, root.node_key)\n",
    "    nx.draw(tree_graph, pos=pos, with_labels=True, node_size=100, node_color=\"skyblue\", font_size=6, font_weight='bold')\n",
    "    plt.title(\"Binary Tree Visualization\")\n",
    "    plt.show()"
   ]
  },
  {
   "cell_type": "code",
   "execution_count": 3,
   "metadata": {},
   "outputs": [
    {
     "name": "stdout",
     "output_type": "stream",
     "text": [
      "Maximum KKT check iterations reached, increase kkt_max_itr to avoid this warning\n",
      "Maximum KKT check iterations reached, increase kkt_max_itr to avoid this warning\n",
      "Maximum KKT check iterations reached, increase kkt_max_itr to avoid this warning\n",
      "Maximum KKT check iterations reached, increase kkt_max_itr to avoid this warning\n",
      "Maximum KKT check iterations reached, increase kkt_max_itr to avoid this warning\n",
      "Maximum KKT check iterations reached, increase kkt_max_itr to avoid this warning\n",
      "Maximum KKT check iterations reached, increase kkt_max_itr to avoid this warning\n",
      "Maximum KKT check iterations reached, increase kkt_max_itr to avoid this warning\n"
     ]
    },
    {
     "name": "stderr",
     "output_type": "stream",
     "text": [
      "OMP: Info #276: omp_set_nested routine deprecated, please use omp_set_max_active_levels instead.\n"
     ]
    },
    {
     "data": {
      "text/plain": [
       "(87, -86, 1)"
      ]
     },
     "execution_count": 3,
     "metadata": {},
     "output_type": "execute_result"
    }
   ],
   "source": [
    "import tree\n",
    "# Solve using Branch and Bound\n",
    "p = tree.Problem(x,y,l0,l2, m = 1.5)\n",
    "t = tree.tree(p)\n",
    "t.branch_and_bound()\n",
    "# i, reward = tree.branch_and_bound(x,y,l0,l2)\n",
    "\n",
    "# def count_nodes(node):\n",
    "#     \"\"\"Count the number of nodes in the tree.\"\"\"\n",
    "#     if not node:\n",
    "#         return 0\n",
    "#     return 1 + count_nodes(node.left) + count_nodes(node.right)\n",
    "\n",
    "# print(f'Number of iterations: {i}')\n",
    "# print(f'Number of Nodes in Tree: {count_nodes(test_tree.root)}')\n",
    "# pairs = tree.get_state_pairs(test_tree.root)\n",
    "# print(f'Number of Edges/State Pairs: {len(pairs)}')"
   ]
  },
  {
   "cell_type": "code",
   "execution_count": 4,
   "metadata": {},
   "outputs": [
    {
     "name": "stdout",
     "output_type": "stream",
     "text": [
      "Maximum KKT check iterations reached, increase kkt_max_itr to avoid this warning\n",
      "No Support\n",
      "Iterations This Episode: 102\n",
      "Total Reward this Episode: -101\n",
      "Number of Items in Memory: 204\n",
      "-----------------------------------------\n",
      "Episodes Played: 1\n",
      "Epsilon: 0.99\n"
     ]
    }
   ],
   "source": [
    "#initialize agent\n",
    "from model import Agent\n",
    "from model import RL_solve\n",
    "agent = Agent()\n",
    "\n",
    "# Solve Using RL Agent\n",
    "iters, tot_reward, nnz = RL_solve(agent, x, y, l0, l2, m = 1.3)\n",
    "\n",
    "print(f'Iterations This Episode: {iters}')\n",
    "print(f'Total Reward this Episode: {tot_reward}')\n",
    "print(f'Number of Items in Memory: {len(agent.memory.memory)}')\n",
    "print(\"-----------------------------------------\")\n",
    "print(f'Episodes Played: {agent.episodes_played}')\n",
    "print(f'Epsilon: {round(agent.epsilon,4)}')"
   ]
  },
  {
   "cell_type": "code",
   "execution_count": 7,
   "metadata": {},
   "outputs": [
    {
     "name": "stdout",
     "output_type": "stream",
     "text": [
      "Number of Non-Zero Coeffs: 2\n"
     ]
    }
   ],
   "source": [
    "print(f'Number of Non-Zero Coeffs: {nnz}')"
   ]
  },
  {
   "cell_type": "code",
   "execution_count": 9,
   "metadata": {},
   "outputs": [
    {
     "name": "stdout",
     "output_type": "stream",
     "text": [
      "Maximum KKT check iterations reached, increase kkt_max_itr to avoid this warning\n",
      "Episode 0 - Total Reward: -101, Iterations: 102\n",
      "Maximum KKT check iterations reached, increase kkt_max_itr to avoid this warning\n",
      "Maximum KKT check iterations reached, increase kkt_max_itr to avoid this warning\n",
      "Maximum KKT check iterations reached, increase kkt_max_itr to avoid this warning\n",
      "Maximum KKT check iterations reached, increase kkt_max_itr to avoid this warning\n",
      "Maximum KKT check iterations reached, increase kkt_max_itr to avoid this warning\n",
      "Maximum KKT check iterations reached, increase kkt_max_itr to avoid this warning\n",
      "Maximum KKT check iterations reached, increase kkt_max_itr to avoid this warning\n",
      "Maximum KKT check iterations reached, increase kkt_max_itr to avoid this warning\n",
      "Maximum KKT check iterations reached, increase kkt_max_itr to avoid this warning\n",
      "Episode 10 - Total Reward: -29, Iterations: 30\n",
      "Maximum KKT check iterations reached, increase kkt_max_itr to avoid this warning\n",
      "Episode 20 - Total Reward: -24, Iterations: 25\n",
      "Maximum KKT check iterations reached, increase kkt_max_itr to avoid this warning\n",
      "Maximum KKT check iterations reached, increase kkt_max_itr to avoid this warning\n",
      "Maximum KKT check iterations reached, increase kkt_max_itr to avoid this warning\n",
      "Maximum KKT check iterations reached, increase kkt_max_itr to avoid this warning\n",
      "Maximum KKT check iterations reached, increase kkt_max_itr to avoid this warning\n",
      "Maximum KKT check iterations reached, increase kkt_max_itr to avoid this warning\n",
      "Maximum KKT check iterations reached, increase kkt_max_itr to avoid this warning\n",
      "Maximum KKT check iterations reached, increase kkt_max_itr to avoid this warning\n",
      "Maximum KKT check iterations reached, increase kkt_max_itr to avoid this warning\n",
      "Maximum KKT check iterations reached, increase kkt_max_itr to avoid this warning\n",
      "Maximum KKT check iterations reached, increase kkt_max_itr to avoid this warning\n"
     ]
    }
   ],
   "source": [
    "import matplotlib.pyplot as plt\n",
    "\n",
    "# Initialize New Agent\n",
    "agent = Agent()\n",
    "\n",
    "total_rewards = []\n",
    "iterations_per_episode = []\n",
    "epsilons = []\n",
    "\n",
    "# Play through 100 episodes\n",
    "for episode in range(100):\n",
    "    iters, tot_reward, test_tree = RL_solve(agent, x, y, l0, l2, m =1.3)\n",
    "    total_rewards.append(tot_reward)\n",
    "    iterations_per_episode.append(iters)\n",
    "    epsilons.append(agent.epsilon)\n",
    "    if episode % 10 == 0:\n",
    "        print(f\"Episode {episode} - Total Reward: {tot_reward}, Iterations: {iters}\")\n",
    "\n",
    "# Plotting the results\n",
    "plt.figure(figsize=(18, 8))\n",
    "\n",
    "plt.subplot(2, 4, 1)\n",
    "plt.plot(total_rewards)\n",
    "plt.title('Total Rewards per Episode')\n",
    "plt.xlabel('Episode')\n",
    "plt.ylabel('Total Reward')\n",
    "\n",
    "plt.subplot(2, 4, 2)\n",
    "plt.plot(iterations_per_episode)\n",
    "plt.title('Iterations per Episode')\n",
    "plt.xlabel('Episode')\n",
    "plt.ylabel('Iterations')\n",
    "\n",
    "plt.subplot(2, 4, 3)\n",
    "plt.plot(epsilons)\n",
    "plt.title('Epsilon per Episode')\n",
    "plt.xlabel('Episode')\n",
    "plt.ylabel('Epsilon')\n",
    "\n",
    "plt.tight_layout()\n",
    "plt.show()"
   ]
  }
 ],
 "metadata": {
  "kernelspec": {
   "display_name": "Python 3",
   "language": "python",
   "name": "python3"
  },
  "language_info": {
   "codemirror_mode": {
    "name": "ipython",
    "version": 3
   },
   "file_extension": ".py",
   "mimetype": "text/x-python",
   "name": "python",
   "nbconvert_exporter": "python",
   "pygments_lexer": "ipython3",
   "version": "3.11.5"
  },
  "orig_nbformat": 4
 },
 "nbformat": 4,
 "nbformat_minor": 2
}
